{
 "cells": [
  {
   "cell_type": "markdown",
   "id": "09b8964d-ca56-4ba6-be2e-7a077e137832",
   "metadata": {},
   "source": [
    "Q1. Explain with an example each when to use a for loop and a while loop."
   ]
  },
  {
   "cell_type": "markdown",
   "id": "0d636fed-167c-446b-a902-f9f7a1ba62ec",
   "metadata": {},
   "source": [
    "Answer =>\n",
    "1> for Loop:\n",
    "Use a for loop when you know the exact number of iterations or when you want to iterate over a sequence (like a list, tuple, or string).\n",
    "It’s ideal for iterating through a collection of items."
   ]
  },
  {
   "cell_type": "code",
   "execution_count": 3,
   "id": "37b0d65d-45b2-464c-8ff4-b533d89037d8",
   "metadata": {},
   "outputs": [
    {
     "name": "stdout",
     "output_type": "stream",
     "text": [
      "1\n",
      "2\n",
      "3\n",
      "4\n",
      "5\n"
     ]
    }
   ],
   "source": [
    "#Example:\n",
    "# Print numbers from 1 to 5\n",
    "for i in range(1, 6):\n",
    "    print(i)"
   ]
  },
  {
   "cell_type": "markdown",
   "id": "70a9a962-c7fc-4326-85ef-6c903b5213f5",
   "metadata": {},
   "source": [
    "2> while Loop:\n",
    "Use a while loop when you don’t know the exact number of iterations in advance or when you want to repeat a block of code until a specific condition is met.\n",
    "It’s useful for scenarios where the loop termination depends on dynamic conditions."
   ]
  },
  {
   "cell_type": "code",
   "execution_count": 4,
   "id": "a0841912-3479-4dc9-88c7-17f63a8c1226",
   "metadata": {},
   "outputs": [
    {
     "name": "stdout",
     "output_type": "stream",
     "text": [
      "0 1 1 2 3 5 8 13 21 34 55 89 "
     ]
    }
   ],
   "source": [
    "#Example:\n",
    "# Print Fibonacci numbers less than 100\n",
    "a, b = 0, 1\n",
    "while a < 100:\n",
    "    print(a, end=\" \")\n",
    "    a, b = b, a + b"
   ]
  },
  {
   "cell_type": "markdown",
   "id": "26f71169-16c5-4017-ba14-c792fec002fe",
   "metadata": {},
   "source": [
    "Q2. Write a python program to print the sum and product of the first 10 natural numbers using for\n",
    "and while loop."
   ]
  },
  {
   "cell_type": "code",
   "execution_count": 5,
   "id": "b5e4f6c1-6186-4dab-af6c-20c7d7fbf749",
   "metadata": {},
   "outputs": [
    {
     "name": "stdout",
     "output_type": "stream",
     "text": [
      "Sum of the first 10 natural numbers: 55\n",
      "Product of the first 10 natural numbers: 3628800\n"
     ]
    }
   ],
   "source": [
    "#Answer =>\n",
    "#Using a for loop:\n",
    "# Calculate the sum and product of the first 10 natural numbers\n",
    "n = 10\n",
    "sum_natural = 0\n",
    "product_natural = 1\n",
    "\n",
    "for i in range(1, n + 1):\n",
    "    sum_natural += i\n",
    "    product_natural *= i\n",
    "\n",
    "print(f\"Sum of the first {n} natural numbers: {sum_natural}\")\n",
    "print(f\"Product of the first {n} natural numbers: {product_natural}\")"
   ]
  },
  {
   "cell_type": "code",
   "execution_count": 6,
   "id": "22fa6702-5c1c-49a7-afd0-1c47ce3a0855",
   "metadata": {},
   "outputs": [
    {
     "name": "stdout",
     "output_type": "stream",
     "text": [
      "Sum of the first 10 natural numbers: 55\n",
      "Product of the first 10 natural numbers: 3628800\n"
     ]
    }
   ],
   "source": [
    "#Using a while loop:\n",
    "# Calculate the sum and product of the first 10 natural numbers (while loop)\n",
    "n = 10\n",
    "sum_natural = 0\n",
    "product_natural = 1\n",
    "i = 1\n",
    "\n",
    "while i <= n:\n",
    "    sum_natural += i\n",
    "    product_natural *= i\n",
    "    i += 1\n",
    "\n",
    "print(f\"Sum of the first {n} natural numbers: {sum_natural}\")\n",
    "print(f\"Product of the first {n} natural numbers: {product_natural}\")"
   ]
  },
  {
   "cell_type": "markdown",
   "id": "d5c689eb-2a81-4c41-a233-ec26667e086b",
   "metadata": {},
   "source": [
    "Q3. Create a python program to compute the electricity bill for a household.\n",
    "The per-unit charges in rupees are as follows: For the first 100 units, the user will be charged Rs. 4.5 per\n",
    "unit, for the next 100 units, the user will be charged Rs. 6 per unit, and for the next 100 units, the user will\n",
    "be charged Rs. 10 per unit, After 300 units and above the user will be charged Rs. 20 per unit.\n",
    "You are required to take the units of electricity consumed in a month from the user as input.\n",
    "Your program must pass this test case: when the unit of electricity consumed by the user in a month is\n",
    "310, the total electricity bill should be 2250."
   ]
  },
  {
   "cell_type": "code",
   "execution_count": 10,
   "id": "fd189a1c-6791-4af8-8dd4-d6751ff3c3fb",
   "metadata": {},
   "outputs": [
    {
     "name": "stdin",
     "output_type": "stream",
     "text": [
      "Enter the units consumed:  310\n"
     ]
    },
    {
     "name": "stdout",
     "output_type": "stream",
     "text": [
      "Electricity bill for 310.00 units: Rs. 2250.00\n"
     ]
    }
   ],
   "source": [
    "#Answer =>\n",
    "def calculate_electricity_bill(units_consumed):\n",
    "    if units_consumed <= 100:\n",
    "        return units_consumed * 4.5\n",
    "    elif units_consumed <= 200:\n",
    "        return 100 * 4.5 + (units_consumed - 100) * 6\n",
    "    elif units_consumed <= 300:\n",
    "        return 100 * 4.5 + 100 * 6 + (units_consumed - 200) * 10\n",
    "    else:\n",
    "        return 100 * 4.5 + 100 * 6 + 100 * 10 + (units_consumed - 300) * 20\n",
    "\n",
    "# Input: Units consumed by the household\n",
    "try:\n",
    "    units = float(input(\"Enter the units consumed: \"))\n",
    "    if units >= 0:\n",
    "        bill_amount = calculate_electricity_bill(units)\n",
    "        print(f\"Electricity bill for {units:.2f} units: Rs. {bill_amount:.2f}\")\n",
    "    else:\n",
    "        print(\"Invalid input. Please enter a non-negative value for units consumed.\")\n",
    "except ValueError:\n",
    "    print(\"Invalid input. Please enter a valid numeric value for units consumed.\")\n"
   ]
  },
  {
   "cell_type": "markdown",
   "id": "4ce16a5d-622d-476e-9ec7-2d1d08c60bd9",
   "metadata": {},
   "source": [
    "Q4. Create a list of numbers from 1 to 100. Use for loop and while loop to calculate the cube of each\n",
    "number and if the cube of that number is divisible by 4 or 5 then append that number in a list and print\n",
    "that list."
   ]
  },
  {
   "cell_type": "code",
   "execution_count": 11,
   "id": "30b480cd-2e69-4cd7-b0a8-bd551e81b3b5",
   "metadata": {},
   "outputs": [
    {
     "name": "stdout",
     "output_type": "stream",
     "text": [
      "Numbers whose cube is divisible by 4 or 5: [2, 4, 5, 6, 8, 10, 12, 14, 15, 16, 18, 20, 22, 24, 25, 26, 28, 30, 32, 34, 35, 36, 38, 40, 42, 44, 45, 46, 48, 50, 52, 54, 55, 56, 58, 60, 62, 64, 65, 66, 68, 70, 72, 74, 75, 76, 78, 80, 82, 84, 85, 86, 88, 90, 92, 94, 95, 96, 98, 100]\n"
     ]
    }
   ],
   "source": [
    "#Answer =>\n",
    "#Using a for loop:\n",
    "# Create a list of numbers from 1 to 100\n",
    "numbers = list(range(1, 101))\n",
    "\n",
    "# Initialize an empty list to store the filtered numbers\n",
    "filtered_numbers = []\n",
    "\n",
    "# Calculate the cube of each number and check divisibility\n",
    "for num in numbers:\n",
    "    cube = num ** 3\n",
    "    if cube % 4 == 0 or cube % 5 == 0:\n",
    "        filtered_numbers.append(num)\n",
    "\n",
    "print(\"Numbers whose cube is divisible by 4 or 5:\", filtered_numbers)   "
   ]
  },
  {
   "cell_type": "code",
   "execution_count": 12,
   "id": "06e40490-d9bd-40ae-af67-08050db4b2a0",
   "metadata": {},
   "outputs": [
    {
     "name": "stdout",
     "output_type": "stream",
     "text": [
      "Numbers whose cube is divisible by 4 or 5 (while loop): [2, 4, 5, 6, 8, 10, 12, 14, 15, 16, 18, 20, 22, 24, 25, 26, 28, 30, 32, 34, 35, 36, 38, 40, 42, 44, 45, 46, 48, 50, 52, 54, 55, 56, 58, 60, 62, 64, 65, 66, 68, 70, 72, 74, 75, 76, 78, 80, 82, 84, 85, 86, 88, 90, 92, 94, 95, 96, 98, 100]\n"
     ]
    }
   ],
   "source": [
    "#Using a while loop:\n",
    "# Initialize variables\n",
    "num = 1\n",
    "filtered_numbers_while = []\n",
    "\n",
    "# Calculate the cube of each number and check divisibility (while loop)\n",
    "while num <= 100:\n",
    "    cube = num ** 3\n",
    "    if cube % 4 == 0 or cube % 5 == 0:\n",
    "        filtered_numbers_while.append(num)\n",
    "    num += 1\n",
    "\n",
    "print(\"Numbers whose cube is divisible by 4 or 5 (while loop):\", filtered_numbers_while)"
   ]
  },
  {
   "cell_type": "markdown",
   "id": "006fb307-0282-4fa0-ad1b-7f28457f6ff9",
   "metadata": {},
   "source": [
    "Q5. Write a program to filter count vowels in the below-given string.\n",
    "string = \"I want to become a data scientist\""
   ]
  },
  {
   "cell_type": "code",
   "execution_count": 13,
   "id": "55c5b7df-12e7-4f8a-91f3-94212431ad53",
   "metadata": {},
   "outputs": [
    {
     "name": "stdout",
     "output_type": "stream",
     "text": [
      "Total vowels in the string: 12\n",
      "A: 4, E: 3, I: 3, O: 2, U: 0\n"
     ]
    }
   ],
   "source": [
    "#Answer = >\n",
    "string = \"I want to become a data scientist\"\n",
    "\n",
    "# Convert the string to lowercase for case-insensitive counting\n",
    "string_lower = string.lower()\n",
    "\n",
    "# Initialize counters for each vowel\n",
    "count_a = string_lower.count('a')\n",
    "count_e = string_lower.count('e')\n",
    "count_i = string_lower.count('i')\n",
    "count_o = string_lower.count('o')\n",
    "count_u = string_lower.count('u')\n",
    "\n",
    "# Calculate the total vowel count\n",
    "total_vowels = count_a + count_e + count_i + count_o + count_u\n",
    "\n",
    "print(f\"Total vowels in the string: {total_vowels}\")\n",
    "print(f\"A: {count_a}, E: {count_e}, I: {count_i}, O: {count_o}, U: {count_u}\")"
   ]
  },
  {
   "cell_type": "code",
   "execution_count": null,
   "id": "ecc8c2f4-b0f4-4c1b-86a1-a5b0bb657769",
   "metadata": {},
   "outputs": [],
   "source": []
  }
 ],
 "metadata": {
  "kernelspec": {
   "display_name": "Python 3 (ipykernel)",
   "language": "python",
   "name": "python3"
  },
  "language_info": {
   "codemirror_mode": {
    "name": "ipython",
    "version": 3
   },
   "file_extension": ".py",
   "mimetype": "text/x-python",
   "name": "python",
   "nbconvert_exporter": "python",
   "pygments_lexer": "ipython3",
   "version": "3.10.8"
  }
 },
 "nbformat": 4,
 "nbformat_minor": 5
}
